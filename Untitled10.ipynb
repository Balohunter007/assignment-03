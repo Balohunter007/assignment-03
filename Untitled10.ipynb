{
  "nbformat": 4,
  "nbformat_minor": 0,
  "metadata": {
    "colab": {
      "name": "Untitled10.ipynb",
      "provenance": [],
      "collapsed_sections": [],
      "authorship_tag": "ABX9TyPnveGmAIlixcCFpwBeJxtY",
      "include_colab_link": true
    },
    "kernelspec": {
      "name": "python3",
      "display_name": "Python 3"
    },
    "language_info": {
      "name": "python"
    }
  },
  "cells": [
    {
      "cell_type": "markdown",
      "metadata": {
        "id": "view-in-github",
        "colab_type": "text"
      },
      "source": [
        "<a href=\"https://colab.research.google.com/github/Balohunter007/assignment-03/blob/main/Untitled10.ipynb\" target=\"_parent\"><img src=\"https://colab.research.google.com/assets/colab-badge.svg\" alt=\"Open In Colab\"/></a>"
      ]
    },
    {
      "cell_type": "code",
      "metadata": {
        "colab": {
          "base_uri": "https://localhost:8080/"
        },
        "id": "z6FKN691bB3j",
        "outputId": "695a5a73-13e7-4d54-ba9d-9b42423ac76c"
      },
      "source": [
        "#........ and shoot for the Sky in you getting a big promotion & opportunity\n",
        "#DolapoOdebiyi\n",
        "print(\"Dolapo Odebiyi:\")\n",
        "fname = input(\"fname\")#Dolapo\n",
        "lname = input(\"lname\") #Odebiyi\n",
        "fullnames = fname + \" \" + lname\n",
        "\n",
        "#Enter phone, email\n",
        "print(\"+17133075420\")\n",
        "phone = input(\"number\")\n",
        "print(\"itzdolarp406@gmail.com\")\n",
        "email = input(\"email\")\n",
        "\n",
        "#price of a used car\n",
        "price = 10000\n",
        "has_good_credit = True;\n",
        "\n",
        "if has_good_credit:\n",
        "    down_payment = 0.1 * 10000\n",
        "else:\n",
        "    down_payment = 0.2 * 10000\n",
        "\n",
        "print(\"down payment\")\n",
        "print('1000')\n",
        "print(\"Dolapo Odebiyi\")\n",
        "print(+17133075420)\n",
        "print(\"itzdolarp406@gmail.com\")\n",
        "print(0.1 * 10000)\n"
      ],
      "execution_count": 19,
      "outputs": [
        {
          "output_type": "stream",
          "text": [
            "Dolapo Odebiyi:\n",
            "fname: Dolapo\n",
            "lname: Odebiyi\n",
            "+17133075420\n",
            "number: +17133075420\n",
            "itzdolarp406@gmail.com\n",
            "email: itzdolarp406@gmail.com\n",
            "down payment\n",
            "1000\n",
            "Dolapo Odebiyi\n",
            "17133075420\n",
            "itzdolarp406@gmail.com\n",
            "1000.0\n"
          ],
          "name": "stdout"
        }
      ]
    }
  ]
}